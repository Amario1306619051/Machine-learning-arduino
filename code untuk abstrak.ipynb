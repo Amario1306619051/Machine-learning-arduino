{
 "cells": [
  {
   "cell_type": "code",
   "execution_count": 1,
   "metadata": {},
   "outputs": [],
   "source": [
    "import numpy as np\n",
    "import matplotlib.pyplot as plt\n",
    "from sklearn.ensemble import RandomForestClassifier, GradientBoostingClassifier\n",
    "from sklearn.tree import DecisionTreeClassifier\n",
    "from sklearn.neural_network import MLPClassifier\n",
    "from sklearn.linear_model import LinearRegression\n",
    "from sklearn.preprocessing import StandardScaler\n",
    "from sklearn import datasets\n",
    "from sklearn.model_selection import train_test_split\n",
    "from sklearn.svm import SVC\n",
    "from sklearn.metrics import accuracy_score, mean_absolute_error\n",
    "import pandas as pd\n",
    "from sklearn.cluster import KMeans"
   ]
  },
  {
   "cell_type": "code",
   "execution_count": 2,
   "metadata": {},
   "outputs": [],
   "source": [
    "colnames=['ID lokasi', 'Waktu','suhu min','suhu max','RH min','RH max','RH','suhu','Kode cuaca','arah angin','kec angin'] \n",
    "cuaca = pd.read_csv('/Users/Risanti/Documents/..code/data forecast/kecamatanforecast-jawa.csv', names=colnames, header=None)"
   ]
  },
  {
   "cell_type": "code",
   "execution_count": 3,
   "metadata": {},
   "outputs": [
    {
     "name": "stderr",
     "output_type": "stream",
     "text": [
      "C:\\Users\\Risanti\\AppData\\Local\\Temp\\ipykernel_7672\\3266837968.py:2: SettingWithCopyWarning: \n",
      "A value is trying to be set on a copy of a slice from a DataFrame.\n",
      "Try using .loc[row_indexer,col_indexer] = value instead\n",
      "\n",
      "See the caveats in the documentation: https://pandas.pydata.org/pandas-docs/stable/user_guide/indexing.html#returning-a-view-versus-a-copy\n",
      "  df['Kode cuaca'] = df['Kode cuaca'].shift(-1)\n"
     ]
    },
    {
     "data": {
      "text/html": [
       "<div>\n",
       "<style scoped>\n",
       "    .dataframe tbody tr th:only-of-type {\n",
       "        vertical-align: middle;\n",
       "    }\n",
       "\n",
       "    .dataframe tbody tr th {\n",
       "        vertical-align: top;\n",
       "    }\n",
       "\n",
       "    .dataframe thead th {\n",
       "        text-align: right;\n",
       "    }\n",
       "</style>\n",
       "<table border=\"1\" class=\"dataframe\">\n",
       "  <thead>\n",
       "    <tr style=\"text-align: right;\">\n",
       "      <th></th>\n",
       "      <th>suhu min</th>\n",
       "      <th>suhu max</th>\n",
       "      <th>RH min</th>\n",
       "      <th>RH max</th>\n",
       "      <th>kec angin</th>\n",
       "      <th>Kode cuaca</th>\n",
       "    </tr>\n",
       "  </thead>\n",
       "  <tbody>\n",
       "    <tr>\n",
       "      <th>4</th>\n",
       "      <td>23.0</td>\n",
       "      <td>33.0</td>\n",
       "      <td>60.0</td>\n",
       "      <td>95.0</td>\n",
       "      <td>10</td>\n",
       "      <td>3.0</td>\n",
       "    </tr>\n",
       "    <tr>\n",
       "      <th>12</th>\n",
       "      <td>22.0</td>\n",
       "      <td>32.0</td>\n",
       "      <td>60.0</td>\n",
       "      <td>95.0</td>\n",
       "      <td>10</td>\n",
       "      <td>3.0</td>\n",
       "    </tr>\n",
       "    <tr>\n",
       "      <th>20</th>\n",
       "      <td>22.0</td>\n",
       "      <td>31.0</td>\n",
       "      <td>60.0</td>\n",
       "      <td>95.0</td>\n",
       "      <td>10</td>\n",
       "      <td>3.0</td>\n",
       "    </tr>\n",
       "    <tr>\n",
       "      <th>26</th>\n",
       "      <td>25.0</td>\n",
       "      <td>28.0</td>\n",
       "      <td>85.0</td>\n",
       "      <td>95.0</td>\n",
       "      <td>10</td>\n",
       "      <td>80.0</td>\n",
       "    </tr>\n",
       "    <tr>\n",
       "      <th>30</th>\n",
       "      <td>24.0</td>\n",
       "      <td>26.0</td>\n",
       "      <td>95.0</td>\n",
       "      <td>95.0</td>\n",
       "      <td>10</td>\n",
       "      <td>1.0</td>\n",
       "    </tr>\n",
       "  </tbody>\n",
       "</table>\n",
       "</div>"
      ],
      "text/plain": [
       "    suhu min  suhu max  RH min  RH max  kec angin  Kode cuaca\n",
       "4       23.0      33.0    60.0    95.0         10         3.0\n",
       "12      22.0      32.0    60.0    95.0         10         3.0\n",
       "20      22.0      31.0    60.0    95.0         10         3.0\n",
       "26      25.0      28.0    85.0    95.0         10        80.0\n",
       "30      24.0      26.0    95.0    95.0         10         1.0"
      ]
     },
     "execution_count": 3,
     "metadata": {},
     "output_type": "execute_result"
    }
   ],
   "source": [
    "df = cuaca[[\"suhu min\",\"suhu max\", \"RH min\", \"RH max\", \"kec angin\",\"Kode cuaca\"]]\n",
    "df['Kode cuaca'] = df['Kode cuaca'].shift(-1)\n",
    "df = df.dropna()\n",
    "df.head()"
   ]
  },
  {
   "cell_type": "code",
   "execution_count": 4,
   "metadata": {},
   "outputs": [
    {
     "data": {
      "text/html": [
       "<div>\n",
       "<style scoped>\n",
       "    .dataframe tbody tr th:only-of-type {\n",
       "        vertical-align: middle;\n",
       "    }\n",
       "\n",
       "    .dataframe tbody tr th {\n",
       "        vertical-align: top;\n",
       "    }\n",
       "\n",
       "    .dataframe thead th {\n",
       "        text-align: right;\n",
       "    }\n",
       "</style>\n",
       "<table border=\"1\" class=\"dataframe\">\n",
       "  <thead>\n",
       "    <tr style=\"text-align: right;\">\n",
       "      <th></th>\n",
       "      <th>suhu min</th>\n",
       "      <th>suhu max</th>\n",
       "      <th>RH min</th>\n",
       "      <th>RH max</th>\n",
       "      <th>kec angin</th>\n",
       "      <th>Cuaca</th>\n",
       "    </tr>\n",
       "  </thead>\n",
       "  <tbody>\n",
       "    <tr>\n",
       "      <th>4</th>\n",
       "      <td>23.0</td>\n",
       "      <td>33.0</td>\n",
       "      <td>60.0</td>\n",
       "      <td>95.0</td>\n",
       "      <td>10.0</td>\n",
       "      <td>0.0</td>\n",
       "    </tr>\n",
       "    <tr>\n",
       "      <th>12</th>\n",
       "      <td>22.0</td>\n",
       "      <td>32.0</td>\n",
       "      <td>60.0</td>\n",
       "      <td>95.0</td>\n",
       "      <td>10.0</td>\n",
       "      <td>0.0</td>\n",
       "    </tr>\n",
       "    <tr>\n",
       "      <th>20</th>\n",
       "      <td>22.0</td>\n",
       "      <td>31.0</td>\n",
       "      <td>60.0</td>\n",
       "      <td>95.0</td>\n",
       "      <td>10.0</td>\n",
       "      <td>0.0</td>\n",
       "    </tr>\n",
       "    <tr>\n",
       "      <th>26</th>\n",
       "      <td>25.0</td>\n",
       "      <td>28.0</td>\n",
       "      <td>85.0</td>\n",
       "      <td>95.0</td>\n",
       "      <td>10.0</td>\n",
       "      <td>1.0</td>\n",
       "    </tr>\n",
       "    <tr>\n",
       "      <th>30</th>\n",
       "      <td>24.0</td>\n",
       "      <td>26.0</td>\n",
       "      <td>95.0</td>\n",
       "      <td>95.0</td>\n",
       "      <td>10.0</td>\n",
       "      <td>0.0</td>\n",
       "    </tr>\n",
       "    <tr>\n",
       "      <th>...</th>\n",
       "      <td>...</td>\n",
       "      <td>...</td>\n",
       "      <td>...</td>\n",
       "      <td>...</td>\n",
       "      <td>...</td>\n",
       "      <td>...</td>\n",
       "    </tr>\n",
       "    <tr>\n",
       "      <th>8052</th>\n",
       "      <td>24.0</td>\n",
       "      <td>31.0</td>\n",
       "      <td>65.0</td>\n",
       "      <td>95.0</td>\n",
       "      <td>20.0</td>\n",
       "      <td>0.0</td>\n",
       "    </tr>\n",
       "    <tr>\n",
       "      <th>8060</th>\n",
       "      <td>24.0</td>\n",
       "      <td>31.0</td>\n",
       "      <td>65.0</td>\n",
       "      <td>95.0</td>\n",
       "      <td>20.0</td>\n",
       "      <td>0.0</td>\n",
       "    </tr>\n",
       "    <tr>\n",
       "      <th>8066</th>\n",
       "      <td>23.0</td>\n",
       "      <td>26.0</td>\n",
       "      <td>95.0</td>\n",
       "      <td>100.0</td>\n",
       "      <td>10.0</td>\n",
       "      <td>1.0</td>\n",
       "    </tr>\n",
       "    <tr>\n",
       "      <th>8070</th>\n",
       "      <td>23.0</td>\n",
       "      <td>25.0</td>\n",
       "      <td>85.0</td>\n",
       "      <td>100.0</td>\n",
       "      <td>10.0</td>\n",
       "      <td>1.0</td>\n",
       "    </tr>\n",
       "    <tr>\n",
       "      <th>8078</th>\n",
       "      <td>23.0</td>\n",
       "      <td>27.0</td>\n",
       "      <td>80.0</td>\n",
       "      <td>100.0</td>\n",
       "      <td>10.0</td>\n",
       "      <td>0.0</td>\n",
       "    </tr>\n",
       "  </tbody>\n",
       "</table>\n",
       "<p>1105 rows × 6 columns</p>\n",
       "</div>"
      ],
      "text/plain": [
       "      suhu min  suhu max  RH min  RH max  kec angin  Cuaca\n",
       "4         23.0      33.0    60.0    95.0       10.0    0.0\n",
       "12        22.0      32.0    60.0    95.0       10.0    0.0\n",
       "20        22.0      31.0    60.0    95.0       10.0    0.0\n",
       "26        25.0      28.0    85.0    95.0       10.0    1.0\n",
       "30        24.0      26.0    95.0    95.0       10.0    0.0\n",
       "...        ...       ...     ...     ...        ...    ...\n",
       "8052      24.0      31.0    65.0    95.0       20.0    0.0\n",
       "8060      24.0      31.0    65.0    95.0       20.0    0.0\n",
       "8066      23.0      26.0    95.0   100.0       10.0    1.0\n",
       "8070      23.0      25.0    85.0   100.0       10.0    1.0\n",
       "8078      23.0      27.0    80.0   100.0       10.0    0.0\n",
       "\n",
       "[1105 rows x 6 columns]"
      ]
     },
     "execution_count": 4,
     "metadata": {},
     "output_type": "execute_result"
    }
   ],
   "source": [
    "kode = []\n",
    "for elem in df[\"Kode cuaca\"] :\n",
    "    if elem <= 4 :\n",
    "        kode.append(0)        \n",
    "    elif elem >= 60 :\n",
    "        kode.append(1)\n",
    "    else :\n",
    "        kode.append(2)\n",
    "\n",
    "df[\"Cuaca\"] = kode\n",
    "df = df.drop(\"Kode cuaca\", axis=1)\n",
    "mean = df.mean()\n",
    "std = df.std()\n",
    "\n",
    "# Menentukan batas atas dan batas bawah untuk outliers\n",
    "lower_bound = mean - 2 * std\n",
    "upper_bound = mean + 2 * std\n",
    "\n",
    "# Menghapus baris yang mengandung outliers\n",
    "df2 = df[(df > lower_bound) & (df < upper_bound)].dropna()\n",
    "df2"
   ]
  },
  {
   "cell_type": "code",
   "execution_count": 24,
   "metadata": {},
   "outputs": [],
   "source": [
    "df4 = df3['suhu min']\n",
    "df4 = np.array(df4)"
   ]
  },
  {
   "cell_type": "code",
   "execution_count": 25,
   "metadata": {},
   "outputs": [
    {
     "data": {
      "text/plain": [
       "array([23., 22., 22., ..., 23., 23., 23.])"
      ]
     },
     "execution_count": 25,
     "metadata": {},
     "output_type": "execute_result"
    }
   ],
   "source": [
    "df4"
   ]
  },
  {
   "cell_type": "code",
   "execution_count": 23,
   "metadata": {},
   "outputs": [],
   "source": [
    "df3 = pd.DataFrame(df2)\n",
    "\n",
    "nama_file = 'data cuaca.csv'\n",
    "df3.to_csv(nama_file, index=False)"
   ]
  },
  {
   "cell_type": "code",
   "execution_count": 6,
   "metadata": {},
   "outputs": [],
   "source": [
    "\n",
    "##df2['Cuaca'] = df2['Cuaca'].replace(0, \"Cerah\")\n",
    "##df2['Cuaca'] = df2['Cuaca'].replace(1, \"Hujan\")\n",
    "##df2['Cuaca'] = df2['Cuaca'].replace(2, \"Berawan\")\n",
    "##df2"
   ]
  },
  {
   "cell_type": "code",
   "execution_count": 7,
   "metadata": {},
   "outputs": [],
   "source": [
    "### split data train dan test\n",
    "train, test = train_test_split(df2, test_size=0.2, random_state=42)\n",
    "X_train = train.drop(\"Cuaca\", axis=1)\n",
    "# scaler = StandardScaler()\n",
    "# X_train = scaler.fit_transform(X_train)\n",
    "y_train = train[\"Cuaca\"]\n",
    "\n",
    "X_test = test.drop(\"Cuaca\", axis=1)\n",
    "# X_test = scaler.transform(X_test)\n",
    "y_test = test[\"Cuaca\"]\n"
   ]
  },
  {
   "cell_type": "code",
   "execution_count": 26,
   "metadata": {},
   "outputs": [
    {
     "data": {
      "text/plain": [
       "0.669683257918552"
      ]
     },
     "execution_count": 26,
     "metadata": {},
     "output_type": "execute_result"
    }
   ],
   "source": [
    "#SVM\n",
    "svc=SVC()\n",
    "svc.fit(X_train,y_train)\n",
    "accuracy=svc.score(X_test,y_test)\n",
    "accuracy"
   ]
  },
  {
   "cell_type": "code",
   "execution_count": 9,
   "metadata": {},
   "outputs": [
    {
     "data": {
      "text/plain": [
       "0.1697370880084753"
      ]
     },
     "execution_count": 9,
     "metadata": {},
     "output_type": "execute_result"
    }
   ],
   "source": [
    "#linear regression\n",
    "LR = LinearRegression()\n",
    "LR.fit(X_train, y_train)\n",
    "accuracy=LR.score(X_test,y_test)\n",
    "accuracy"
   ]
  },
  {
   "cell_type": "code",
   "execution_count": 10,
   "metadata": {},
   "outputs": [
    {
     "data": {
      "text/plain": [
       "0.8280542986425339"
      ]
     },
     "execution_count": 10,
     "metadata": {},
     "output_type": "execute_result"
    }
   ],
   "source": [
    "#decision tree\n",
    "dtc = DecisionTreeClassifier(random_state=42)\n",
    "dtc.fit(X_train, y_train)\n",
    "accuracy = dtc.score(X_test, y_test)\n",
    "accuracy"
   ]
  },
  {
   "cell_type": "code",
   "execution_count": 11,
   "metadata": {},
   "outputs": [
    {
     "data": {
      "image/png": "[encoded data removed]",
      "text/plain": [
       "<Figure size 800x600 with 1 Axes>"
      ]
     },
     "metadata": {},
     "output_type": "display_data"
    }
   ],
   "source": [
    "\n",
    "importance = dtc.feature_importances_\n",
    "\n",
    "# Mendapatkan nama-nama fitur\n",
    "features = X_test.columns\n",
    "\n",
    "# Memvisualisasikan grafik feature importance\n",
    "plt.figure(figsize=(8, 6))\n",
    "plt.bar(features, importance)\n",
    "plt.title('Feature Importance')\n",
    "plt.xlabel('Features')\n",
    "plt.ylabel('Importance')\n",
    "plt.xticks(rotation=45)\n",
    "plt.show()"
   ]
  },
  {
   "cell_type": "code",
   "execution_count": 12,
   "metadata": {},
   "outputs": [
    {
     "data": {
      "text/plain": [
       "0.7918552036199095"
      ]
     },
     "execution_count": 12,
     "metadata": {},
     "output_type": "execute_result"
    }
   ],
   "source": [
    "#gradient boosting\n",
    "gb = GradientBoostingClassifier(n_estimators=200, random_state=42)\n",
    "gb.fit(X_train, y_train)\n",
    "\n",
    "# Mendapatkan akurasi model\n",
    "accuracy = gb.score(X_test, y_test)\n",
    "accuracy\n"
   ]
  },
  {
   "cell_type": "code",
   "execution_count": 13,
   "metadata": {},
   "outputs": [
    {
     "data": {
      "image/png": "[encoded data removed]",
      "text/plain": [
       "<Figure size 800x600 with 1 Axes>"
      ]
     },
     "metadata": {},
     "output_type": "display_data"
    }
   ],
   "source": [
    "\n",
    "importance = gb.feature_importances_\n",
    "\n",
    "# Mendapatkan nama-nama fitur\n",
    "features = X_test.columns\n",
    "\n",
    "# Memvisualisasikan grafik feature importance\n",
    "plt.figure(figsize=(8, 6))\n",
    "plt.bar(features, importance)\n",
    "plt.title('Feature Importance')\n",
    "plt.xlabel('Features')\n",
    "plt.ylabel('Importance')\n",
    "plt.xticks(rotation=45)\n",
    "plt.show()"
   ]
  },
  {
   "cell_type": "code",
   "execution_count": 14,
   "metadata": {},
   "outputs": [
    {
     "name": "stdout",
     "output_type": "stream",
     "text": [
      "Accuracy  0.6153846153846154\n"
     ]
    }
   ],
   "source": [
    "## MLP\n",
    "mlp = MLPClassifier(max_iter=1000, solver=\"sgd\", hidden_layer_sizes=200, activation=\"tanh\")\n",
    "mlp.fit(X_train, y_train)\n",
    "\n",
    "y_pred = mlp.predict(X_test)\n",
    "print(\"Accuracy \",accuracy_score(y_test,y_pred))"
   ]
  },
  {
   "cell_type": "code",
   "execution_count": 15,
   "metadata": {},
   "outputs": [
    {
     "data": {
      "text/plain": [
       "0.8416289592760181"
      ]
     },
     "execution_count": 15,
     "metadata": {},
     "output_type": "execute_result"
    }
   ],
   "source": [
    "#rf\n",
    "rf_classifier = RandomForestClassifier(n_estimators=100, max_depth=10, random_state=42)\n",
    "\n",
    "# Melatih model pada dataset\n",
    "rf_classifier.fit(X_train, y_train)\n",
    "\n",
    "# Mendapatkan akurasi model\n",
    "accuracy = rf_classifier.score(X_test, y_test)\n",
    "accuracy\n"
   ]
  },
  {
   "cell_type": "code",
   "execution_count": 16,
   "metadata": {},
   "outputs": [
    {
     "data": {
      "image/png": "[encoded data removed]",
      "text/plain": [
       "<Figure size 800x600 with 1 Axes>"
      ]
     },
     "metadata": {},
     "output_type": "display_data"
    }
   ],
   "source": [
    "\n",
    "importance = rf_classifier.feature_importances_\n",
    "\n",
    "# Mendapatkan nama-nama fitur\n",
    "features = X_test.columns\n",
    "\n",
    "# Memvisualisasikan grafik feature importance\n",
    "plt.figure(figsize=(8, 6))\n",
    "plt.bar(features, importance)\n",
    "plt.title('Feature Importance')\n",
    "plt.xlabel('Features')\n",
    "plt.ylabel('Importance')\n",
    "plt.xticks(rotation=45)\n",
    "plt.show()"
   ]
  },
  {
   "cell_type": "code",
   "execution_count": 17,
   "metadata": {},
   "outputs": [
    {
     "data": {
      "image/png": "[encoded data removed]",
      "text/plain": [
       "<Figure size 640x480 with 1 Axes>"
      ]
     },
     "metadata": {},
     "output_type": "display_data"
    },
    {
     "data": {
      "text/plain": [
       "<Figure size 1000x600 with 0 Axes>"
      ]
     },
     "metadata": {},
     "output_type": "display_data"
    }
   ],
   "source": [
    "\n",
    "# Daftar model\n",
    "models = ['Linear Regression', 'SVM', 'Decision Tree','GBoosting', 'Random Forest']\n",
    "\n",
    "# Daftar akurasi untuk setiap model\n",
    "accuracies = [0.1697370880084753, 0.669683257918552, 0.8280542986425339, 0.7918552036199095, 0.8416289592760181]\n",
    "\n",
    "# Membuat grafik perbandingan akurasi\n",
    "plt.bar(models, accuracies)\n",
    "plt.title('Perbandingan Akurasi Model')\n",
    "plt.xlabel('Model')\n",
    "plt.ylabel('Akurasi')\n",
    "plt.ylim(0, 1)  \n",
    "#plt.figure(figsize='auto')\n",
    "plt.figure(figsize=(10, 6))\n",
    "plt.show()\n"
   ]
  }
 ],
 "metadata": {
  "kernelspec": {
   "display_name": "Python 3 (ipykernel)",
   "language": "python",
   "name": "python3"
  },
  "language_info": {
   "codemirror_mode": {
    "name": "ipython",
    "version": 3
   },
   "file_extension": ".py",
   "mimetype": "text/x-python",
   "name": "python",
   "nbconvert_exporter": "python",
   "pygments_lexer": "ipython3",
   "version": "3.10.8"
  },
  "vscode": {
   "interpreter": {
    "hash": "61910445f1257dce016debe23f23a1522073b523ed1c99af7ed4e443f1ac7191"
   }
  }
 },
 "nbformat": 4,
 "nbformat_minor": 2
}
